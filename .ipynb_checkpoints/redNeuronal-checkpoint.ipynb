{
 "cells": [
  {
   "cell_type": "markdown",
   "metadata": {
    "colab_type": "text",
    "id": "LCAQVEnk-s5L"
   },
   "source": [
    "###### Fernando Hengstenberg\n",
    "###### Carné 17699\n",
    "# <center> Redes Neuronales"
   ]
  },
  {
   "cell_type": "markdown",
   "metadata": {},
   "source": [
    "#### Importamos librerias y datos "
   ]
  },
  {
   "cell_type": "markdown",
   "metadata": {
    "colab_type": "text",
    "id": "54plteJq_QsK"
   },
   "source": [
    "### importado  de:https://github.com/zalandoresearch/fashion-mnist"
   ]
  },
  {
   "cell_type": "code",
   "execution_count": 10,
   "metadata": {
    "colab": {},
    "colab_type": "code",
    "id": "aZ4fDZIX-9BC"
   },
   "outputs": [],
   "source": [
    "from librerias import mnist_reader"
   ]
  },
  {
   "cell_type": "code",
   "execution_count": null,
   "metadata": {},
   "outputs": [],
   "source": [
    "import numpy as np\n",
    "from librerias.redNeuronal import *\n",
    "from scipy import optimize as scop\n",
    "import pickle\n",
    "import warnings"
   ]
  },
  {
   "cell_type": "code",
   "execution_count": null,
   "metadata": {},
   "outputs": [],
   "source": [
    "warnings.simplefilter(\"ignore\")"
   ]
  },
  {
   "cell_type": "markdown",
   "metadata": {
    "colab_type": "text",
    "id": "pn9Pj5AxAOXB"
   },
   "source": [
    "##### entrenamiento:"
   ]
  },
  {
   "cell_type": "code",
   "execution_count": 11,
   "metadata": {
    "colab": {},
    "colab_type": "code",
    "id": "Z1QmPLVJANnu"
   },
   "outputs": [],
   "source": [
    "X1, y1 = mnist_reader.load_mnist('datos', kind='train')"
   ]
  },
  {
   "cell_type": "code",
   "execution_count": 12,
   "metadata": {
    "colab": {},
    "colab_type": "code",
    "id": "vWEkxsmqBNKG"
   },
   "outputs": [],
   "source": [
    "X2, y2 = mnist_reader.load_mnist('datos', kind='t10k')"
   ]
  },
  {
   "cell_type": "markdown",
   "metadata": {
    "colab_type": "text",
    "id": "Cex4MLIMH6ce"
   },
   "source": [
    "###### Limpieza de datos "
   ]
  },
  {
   "cell_type": "code",
   "execution_count": 13,
   "metadata": {
    "colab": {},
    "colab_type": "code",
    "id": "ku5Xe5yxHzRa"
   },
   "outputs": [],
   "source": [
    "X1 = np.array(X1, dtype=np.int64)\n",
    "X2 = np.array(X2, dtype=np.int64)"
   ]
  },
  {
   "cell_type": "code",
   "execution_count": 14,
   "metadata": {
    "colab": {},
    "colab_type": "code",
    "id": "Q7hKjQRYIoyH"
   },
   "outputs": [],
   "source": [
    "X1, X2 = (X1 / 1000, X2 / 1000)"
   ]
  },
  {
   "cell_type": "code",
   "execution_count": 15,
   "metadata": {
    "colab": {},
    "colab_type": "code",
    "id": "ymjPy9s5KyiQ"
   },
   "outputs": [],
   "source": [
    "m1, n1 = X1.shape\n",
    "m2, n2 = X2.shape"
   ]
  },
  {
   "cell_type": "code",
   "execution_count": 16,
   "metadata": {
    "colab": {},
    "colab_type": "code",
    "id": "7MahrmICK_OH"
   },
   "outputs": [],
   "source": [
    "y1 = y1.reshape(m1, 1)\n",
    "y2 = y2.reshape(m2, 1)"
   ]
  },
  {
   "cell_type": "markdown",
   "metadata": {
    "colab_type": "text",
    "id": "P3wXDNpQD7-n"
   },
   "source": [
    "### Red Neuronal"
   ]
  },
  {
   "cell_type": "code",
   "execution_count": 32,
   "metadata": {
    "colab": {},
    "colab_type": "code",
    "id": "Hkqj-_DCEzTc"
   },
   "outputs": [],
   "source": [
    "RN = np.array( [ n1, 125, 10 ] )"
   ]
  },
  {
   "cell_type": "markdown",
   "metadata": {
    "colab_type": "text",
    "id": "Xzxrlqe8M4Ze"
   },
   "source": [
    "### Trabajo de datos"
   ]
  },
  {
   "cell_type": "markdown",
   "metadata": {
    "colab_type": "text",
    "id": "mffE90bUOfU6"
   },
   "source": [
    "theta basados en el modelo"
   ]
  },
  {
   "cell_type": "code",
   "execution_count": 40,
   "metadata": {},
   "outputs": [],
   "source": [
    "ts = np.hstack((RN[1:].reshape(len(RN) - 1, 1),(RN[:-1] + 1).reshape(len(RN) - 1, 1)))"
   ]
  },
  {
   "cell_type": "code",
   "execution_count": 41,
   "metadata": {},
   "outputs": [],
   "source": [
    "ft = flatten_list_of_arrays([np.random.rand(*theta_shape)for theta_shape in ts])"
   ]
  },
  {
   "cell_type": "markdown",
   "metadata": {
    "colab_type": "text",
    "id": "CW8n9t9NO3_A"
   },
   "source": [
    "optimizacion"
   ]
  },
  {
   "cell_type": "code",
   "execution_count": 20,
   "metadata": {
    "colab": {},
    "colab_type": "code",
    "id": "YHvAMefsQoQI"
   },
   "outputs": [],
   "source": [
    "Y = (y1 == np.array(range(10))).astype(int)"
   ]
  },
  {
   "cell_type": "code",
   "execution_count": 24,
   "metadata": {},
   "outputs": [],
   "source": [
    "optimizacion = scop.minimize(fun=cost_function,x0=ft,args=(ts, X1, Y),method='L-BFGS-B',jac=back_propagation,options={'disp': True, 'maxiter': 3000})"
   ]
  },
  {
   "cell_type": "code",
   "execution_count": 37,
   "metadata": {},
   "outputs": [],
   "source": [
    "with open('modelo1/entrenado1', 'wb') as archivo:\n",
    "    #guardamos archivo en entrenado1\n",
    "  pickle.dump(optimizacion.x, archivo)\n",
    "    #cerramos archivo\n",
    "  archivo.close()"
   ]
  },
  {
   "cell_type": "markdown",
   "metadata": {},
   "source": [
    "## Veamos la efectividad del modelo"
   ]
  },
  {
   "cell_type": "code",
   "execution_count": 38,
   "metadata": {},
   "outputs": [],
   "source": [
    "with open('modelo1/entrenado1', 'rb') as archivo: \n",
    "    #cargamos archivo\n",
    "    optimizacionT = pickle.load(archivo)\n",
    "    #cerramos archivo\n",
    "    archivo.close()"
   ]
  },
  {
   "cell_type": "markdown",
   "metadata": {},
   "source": [
    "#### Efectividad\n"
   ]
  },
  {
   "cell_type": "code",
   "execution_count": 42,
   "metadata": {},
   "outputs": [],
   "source": [
    "thetas = inflate_matrixes(optimizacionT,ts)"
   ]
  },
  {
   "cell_type": "code",
   "execution_count": 43,
   "metadata": {},
   "outputs": [],
   "source": [
    "ff = feed_forward(thetas,X2)"
   ]
  },
  {
   "cell_type": "code",
   "execution_count": 44,
   "metadata": {},
   "outputs": [],
   "source": [
    "prediccion = np.argmax(ff[-1], axis = 1)"
   ]
  },
  {
   "cell_type": "markdown",
   "metadata": {},
   "source": [
    "canculando"
   ]
  },
  {
   "cell_type": "code",
   "execution_count": 46,
   "metadata": {},
   "outputs": [
    {
     "name": "stdout",
     "output_type": "stream",
     "text": [
      "{'correct': 1017, 'incorrect': 8983}\n",
      "Precisión: 10%\n"
     ]
    }
   ],
   "source": [
    "#buscamos el porcentaje de la prediccion\n",
    "resultado = {'correct': 0, 'incorrect': 0}\n",
    "for i in range( len( ff[-1] ) ):\n",
    "    if(prediccion[i] == y2[i][0]):\n",
    "        resultado['correct'] += 1\n",
    "    else:\n",
    "       |resultado['incorrect'] +=1\n",
    "#printeamos los resultados\n",
    "print(resultado)\n",
    "print(f\"Precisión: { round( (resultado['correct'] / len( ff[-1] ) ) * 100 ) }%\")"
   ]
  },
  {
   "cell_type": "markdown",
   "metadata": {},
   "source": [
    "corremos de nuevo todo para verificar."
   ]
  },
  {
   "cell_type": "code",
   "execution_count": 24,
   "metadata": {},
   "outputs": [
    {
     "name": "stdout",
     "output_type": "stream",
     "text": [
      "{'correct': 8524, 'incorrect': 1476}\n",
      "Precisión: 85%\n"
     ]
    }
   ],
   "source": [
    "#buscamos el porcentaje de la prediccion\n",
    "resultado = {'correct': 0, 'incorrect': 0}\n",
    "for i in range( len( ff[-1] ) ):\n",
    "    if(prediccion[i] == y2[i][0]):\n",
    "        resultado['correct'] += 1\n",
    "    else:\n",
    "        resultado['incorrect'] +=1\n",
    "#printeamos los resultados\n",
    "print(resultado)\n",
    "print(f\"Precisión: { round( (resultado['correct'] / len( ff[-1] ) ) * 100 ) }%\")"
   ]
  }
 ],
 "metadata": {
  "colab": {
   "name": "neural-network",
   "provenance": [],
   "toc_visible": true
  },
  "kernelspec": {
   "display_name": "Python 3",
   "language": "python",
   "name": "python3"
  },
  "language_info": {
   "codemirror_mode": {
    "name": "ipython",
    "version": 3
   },
   "file_extension": ".py",
   "mimetype": "text/x-python",
   "name": "python",
   "nbconvert_exporter": "python",
   "pygments_lexer": "ipython3",
   "version": "3.7.2"
  }
 },
 "nbformat": 4,
 "nbformat_minor": 1
}
