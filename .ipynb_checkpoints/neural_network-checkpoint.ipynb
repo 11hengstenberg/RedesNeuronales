{
 "cells": [
  {
   "cell_type": "markdown",
   "metadata": {
    "colab_type": "text",
    "id": "LCAQVEnk-s5L"
   },
   "source": [
    "###### Fernando Hengstenberg\n",
    "###### Carné 17699\n",
    "# <center> Redes Neuronales"
   ]
  },
  {
   "cell_type": "markdown",
   "metadata": {},
   "source": [
    "#### Importamos librerias y datos "
   ]
  },
  {
   "cell_type": "code",
   "execution_count": 22,
   "metadata": {},
   "outputs": [],
   "source": [
    "import numpy as np\n",
    "from utils.neural_network import *\n",
    "from scipy import optimize as op\n",
    "import pickle\n",
    "import warnings"
   ]
  },
  {
   "cell_type": "code",
   "execution_count": 23,
   "metadata": {},
   "outputs": [],
   "source": [
    "warnings.simplefilter(\"ignore\")"
   ]
  },
  {
   "cell_type": "markdown",
   "metadata": {
    "colab_type": "text",
    "id": "54plteJq_QsK"
   },
   "source": [
    "### importado  de:https://github.com/zalandoresearch/fashion-mnist"
   ]
  },
  {
   "cell_type": "code",
   "execution_count": 10,
   "metadata": {
    "colab": {},
    "colab_type": "code",
    "id": "aZ4fDZIX-9BC"
   },
   "outputs": [],
   "source": [
    "from utils import mnist_reader"
   ]
  },
  {
   "cell_type": "markdown",
   "metadata": {
    "colab_type": "text",
    "id": "pn9Pj5AxAOXB"
   },
   "source": [
    "##### entrenamiento:"
   ]
  },
  {
   "cell_type": "code",
   "execution_count": 11,
   "metadata": {
    "colab": {},
    "colab_type": "code",
    "id": "Z1QmPLVJANnu"
   },
   "outputs": [],
   "source": [
    "X1, y1 = mnist_reader.load_mnist('data', kind='train')"
   ]
  },
  {
   "cell_type": "code",
   "execution_count": 12,
   "metadata": {
    "colab": {},
    "colab_type": "code",
    "id": "vWEkxsmqBNKG"
   },
   "outputs": [],
   "source": [
    "X2, y2 = mnist_reader.load_mnist('data', kind='t10k')"
   ]
  },
  {
   "cell_type": "markdown",
   "metadata": {
    "colab_type": "text",
    "id": "Cex4MLIMH6ce"
   },
   "source": [
    "###### Limpieza de datos "
   ]
  },
  {
   "cell_type": "code",
   "execution_count": 13,
   "metadata": {
    "colab": {},
    "colab_type": "code",
    "id": "ku5Xe5yxHzRa"
   },
   "outputs": [],
   "source": [
    "X1 = np.array(X1, dtype=np.int64)\n",
    "X2 = np.array(X2, dtype=np.int64)"
   ]
  },
  {
   "cell_type": "code",
   "execution_count": 14,
   "metadata": {
    "colab": {},
    "colab_type": "code",
    "id": "Q7hKjQRYIoyH"
   },
   "outputs": [],
   "source": [
    "X1, X2 = (X1 / 1000, X2 / 1000)"
   ]
  },
  {
   "cell_type": "code",
   "execution_count": 15,
   "metadata": {
    "colab": {},
    "colab_type": "code",
    "id": "ymjPy9s5KyiQ"
   },
   "outputs": [],
   "source": [
    "m1, n_train = X1.shape\n",
    "m2, n_test = X2.shape"
   ]
  },
  {
   "cell_type": "code",
   "execution_count": 16,
   "metadata": {
    "colab": {},
    "colab_type": "code",
    "id": "7MahrmICK_OH"
   },
   "outputs": [],
   "source": [
    "y1 = y1.reshape(m1, 1)\n",
    "y2 = y2.reshape(m2, 1)"
   ]
  },
  {
   "cell_type": "markdown",
   "metadata": {
    "colab_type": "text",
    "id": "P3wXDNpQD7-n"
   },
   "source": [
    "### Red Neuronal"
   ]
  },
  {
   "cell_type": "code",
   "execution_count": 32,
   "metadata": {
    "colab": {},
    "colab_type": "code",
    "id": "Hkqj-_DCEzTc"
   },
   "outputs": [],
   "source": [
    "NN_ARCH = np.array( [ n_train, 125, 10 ] )"
   ]
  },
  {
   "cell_type": "markdown",
   "metadata": {
    "colab_type": "text",
    "id": "Xzxrlqe8M4Ze"
   },
   "source": [
    "### Trabajo de datos"
   ]
  },
  {
   "cell_type": "markdown",
   "metadata": {
    "colab_type": "text",
    "id": "mffE90bUOfU6"
   },
   "source": [
    "teta basados en el modelo"
   ]
  },
  {
   "cell_type": "code",
   "execution_count": 33,
   "metadata": {
    "colab": {},
    "colab_type": "code",
    "id": "9YE7m8T-OflB"
   },
   "outputs": [],
   "source": [
    "ts = np.hstack((RN[1:].reshape(len(RN) - 1, 1),(RN[:-1] + 1).reshape(len(RN) - 1, 1)))"
   ]
  },
  {
   "cell_type": "code",
   "execution_count": 34,
   "metadata": {
    "colab": {},
    "colab_type": "code",
    "id": "SDflJV2rOPey"
   },
   "outputs": [],
   "source": [
    "ft = flatten_list_of_arrays([np.random.rand(*theta_shape)for theta_shape in ts])"
   ]
  },
  {
   "cell_type": "markdown",
   "metadata": {
    "colab_type": "text",
    "id": "CW8n9t9NO3_A"
   },
   "source": [
    "optimizacion"
   ]
  },
  {
   "cell_type": "code",
   "execution_count": 20,
   "metadata": {
    "colab": {},
    "colab_type": "code",
    "id": "YHvAMefsQoQI"
   },
   "outputs": [],
   "source": [
    "Y = (y1 == np.array(range(10))).astype(int)"
   ]
  },
  {
   "cell_type": "code",
   "execution_count": 24,
   "metadata": {},
   "outputs": [],
   "source": [
    "opt_res = op.minimize(\n",
    "    fun=cost_function,\n",
    "    x0=ft,\n",
    "    args=(ts, X1, Y),\n",
    "    method='L-BFGS-B',\n",
    "    jac=back_propagation,\n",
    "    options={'disp': True, 'maxiter': 3000}\n",
    ")\n"
   ]
  },
  {
   "cell_type": "code",
   "execution_count": 18,
   "metadata": {
    "colab": {},
    "colab_type": "code",
    "id": "xlu8ZpzuM6ba"
   },
   "outputs": [],
   "source": [
    "with open('pre-trained/pre-trained-model-v1', 'wb') as o_file:\n",
    "  pickle.dump(optimizacion.x, o_file)\n",
    "  o_file.close()"
   ]
  },
  {
   "cell_type": "markdown",
   "metadata": {},
   "source": [
    "## Veamos la efectividad del modelo"
   ]
  },
  {
   "cell_type": "markdown",
   "metadata": {},
   "source": [
    "Vamos a leer los datos del modelo pre entrenado"
   ]
  },
  {
   "cell_type": "code",
   "execution_count": 20,
   "metadata": {},
   "outputs": [],
   "source": [
    "with open('pre-trained/pre-trained-model-v1', 'rb') as o_file:\n",
    "    opt_thetas = pickle.load(o_file)\n",
    "    o_file.close()"
   ]
  },
  {
   "cell_type": "markdown",
   "metadata": {},
   "source": [
    "### Vamos a predecir los valores en base al modelo encontrado"
   ]
  },
  {
   "cell_type": "code",
   "execution_count": 21,
   "metadata": {},
   "outputs": [],
   "source": [
    "thetas = inflate_matrixes(\n",
    "    opt_thetas,\n",
    "    ts\n",
    ")"
   ]
  },
  {
   "cell_type": "markdown",
   "metadata": {},
   "source": [
    "Utilizamos feed forward"
   ]
  },
  {
   "cell_type": "code",
   "execution_count": 22,
   "metadata": {},
   "outputs": [],
   "source": [
    "ff_res = feed_forward(\n",
    "    thetas,\n",
    "    X2\n",
    ")"
   ]
  },
  {
   "cell_type": "markdown",
   "metadata": {},
   "source": [
    "Vamos a medir la precision del modelo"
   ]
  },
  {
   "cell_type": "code",
   "execution_count": 23,
   "metadata": {},
   "outputs": [],
   "source": [
    "predict_lbl = np.argmax(ff_res[-1], axis = 1)"
   ]
  },
  {
   "cell_type": "code",
   "execution_count": 24,
   "metadata": {},
   "outputs": [
    {
     "name": "stdout",
     "output_type": "stream",
     "text": [
      "{'correct': 8524, 'incorrect': 1476}\n",
      "Precisión: 85%\n"
     ]
    }
   ],
   "source": [
    "prediction_res = {'correct': 0, 'incorrect': 0}\n",
    "for i in range( len( ff_res[-1] ) ):\n",
    "    if(predict_lbl[i] == y2[i][0]):\n",
    "        prediction_res['correct'] += 1\n",
    "    else:\n",
    "        prediction_res['incorrect'] +=1\n",
    "\n",
    "print(prediction_res)\n",
    "print(f\"Precisión: { round( ( prediction_res['correct'] / len( ff_res[-1] ) ) * 100 ) }%\")"
   ]
  }
 ],
 "metadata": {
  "colab": {
   "name": "neural-network",
   "provenance": [],
   "toc_visible": true
  },
  "kernelspec": {
   "display_name": "Python 3",
   "language": "python",
   "name": "python3"
  },
  "language_info": {
   "codemirror_mode": {
    "name": "ipython",
    "version": 3
   },
   "file_extension": ".py",
   "mimetype": "text/x-python",
   "name": "python",
   "nbconvert_exporter": "python",
   "pygments_lexer": "ipython3",
   "version": "3.7.2"
  }
 },
 "nbformat": 4,
 "nbformat_minor": 1
}
